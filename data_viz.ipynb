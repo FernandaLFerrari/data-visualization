{
  "nbformat": 4,
  "nbformat_minor": 0,
  "metadata": {
    "colab": {
      "name": "data-viz.ipynb",
      "private_outputs": true,
      "provenance": [],
      "collapsed_sections": []
    },
    "kernelspec": {
      "name": "ir",
      "display_name": "R"
    },
    "language_info": {
      "name": "R"
    }
  },
  "cells": [
    {
      "cell_type": "markdown",
      "source": [
        "## **Human Resources Data Set**\n",
        "\n",
        "\n",
        "* https://www.kaggle.com/datasets/rhuebner/human-resources-data-set\n",
        "\n",
        "\n",
        "**Inspiration**\n",
        "\n",
        "We've included some open-ended questions that you can explore and try to address through creating Tableau visualizations, or R or Python analyses. Good luck and enjoy the learning!\n",
        "\n",
        "* Is there any relationship between who a person works for and their performance score?\n",
        "* What is the overall diversity profile of the organization?\n",
        "* What are our best recruiting sources if we want to ensure a diverse organization?\n",
        "* Can we predict who is going to terminate and who isn't? What level of accuracy can we achieve on this?\n",
        "* Are there areas of the company where pay is not equitable?\n",
        "\n",
        "\n",
        "\n"
      ],
      "metadata": {
        "id": "I2tuLtZ60Orv"
      }
    },
    {
      "cell_type": "code",
      "execution_count": null,
      "metadata": {
        "id": "p-IoX5QR0NO0"
      },
      "outputs": [],
      "source": [
        "library(tidyverse)\n",
        "library(viridis)\n",
        "library(RColorBrewer)\n",
        "library(hrbrthemes)\n",
        "\n",
        "### import data\n",
        "\n",
        "data = read.csv(\"HRDataset_v14.csv\", sep=\",\")\n",
        "\n",
        "head(data,4)"
      ]
    },
    {
      "cell_type": "markdown",
      "source": [
        ""
      ],
      "metadata": {
        "id": "xdXI2Liw-TC3"
      }
    },
    {
      "cell_type": "code",
      "source": [
        "str(data)"
      ],
      "metadata": {
        "id": "Ld-unX7l1jPC"
      },
      "execution_count": null,
      "outputs": []
    },
    {
      "cell_type": "code",
      "source": [
        "### summarise data by manager\n",
        "\n",
        "manager_count =count(data, ManagerName)\n",
        "\n",
        "manager_count\n",
        "\n",
        "manager_by_score = count(data, ManagerName, PerformanceScore)\n",
        "\n",
        "head(manager_by)\n"
      ],
      "metadata": {
        "id": "E_SvP5463fx0"
      },
      "execution_count": null,
      "outputs": []
    },
    {
      "cell_type": "code",
      "source": [
        "### calculate percent\n",
        "manager_by_score_total = inner_join(manager_by_score, manager_count, by=\"ManagerName\")\n",
        "manager_by_score_total$percent = round((manager_by_score_total$n.x/manager_by_score_total$n.y)*100,2)\n",
        "\n",
        "head(manager_by_score_total,4)"
      ],
      "metadata": {
        "id": "alZp2YkG59xJ"
      },
      "execution_count": null,
      "outputs": []
    },
    {
      "cell_type": "code",
      "source": [
        "options(repr.plot.width = 15, repr.plot.height = 13)\n",
        "\n",
        "ggplot(manager_by_score_total, aes(x=reorder(ManagerName, -percent), y=percent, fill=PerformanceScore)) +\n",
        "   geom_col() +\n",
        "   theme_ipsum_rc(grid=\"XY\") +  \n",
        "   labs(title = \"Score vs. Manager\",\n",
        "        x=\"Manager\",\n",
        "        y=\"Percent\",\n",
        "        fill=\"Score\")  +\n",
        "    scale_fill_ipsum() +\n",
        "        facet_wrap(~PerformanceScore, ncol = 1,  drop=TRUE)  +\n",
        "    theme(plot.title = element_text(size = 16), \n",
        "         axis.title.x =element_text(size = 16), \n",
        "         axis.title.y =element_text(size = 16), \n",
        "         legend.title =element_text(size = 16), \n",
        "         legend.text=element_text(size =16),\n",
        "         axis.text.x = element_text(angle=90, hjust=1, size=14),\n",
        "         axis.text.y = element_text( hjust=1, size=14),\n",
        "         strip.text = element_text(size = 14)                  \n",
        "                  )  +\n",
        "     guides(fill=FALSE)\n",
        "\n",
        "\n",
        "ggsave(\"manager_vs_score.svg\", dpi=300, width = 10, height = 8)\n",
        "\n"
      ],
      "metadata": {
        "id": "0Higgvro8qzr"
      },
      "execution_count": null,
      "outputs": []
    },
    {
      "cell_type": "code",
      "source": [
        ""
      ],
      "metadata": {
        "id": "8YBzbstj8LZI"
      },
      "execution_count": null,
      "outputs": []
    }
  ]
}